{
 "cells": [
  {
   "cell_type": "code",
   "execution_count": 49,
   "id": "f481c275",
   "metadata": {},
   "outputs": [],
   "source": [
    "#DNS TUNNELING PCAP FILE FOR EXAMPLE \n",
    "\n",
    "#ioline = 'C://Users//igor.beryozkin//Downloads/dns-tunnel-iodine.pcap'\n",
    "#a = rdpcap(ioline)"
   ]
  },
  {
   "cell_type": "code",
   "execution_count": 136,
   "id": "00994a9a",
   "metadata": {},
   "outputs": [],
   "source": [
    "import findspark\n",
    "findspark.init()\n",
    "\n",
    "from pyspark.sql import *\n",
    "from pyspark.sql.types import *\n",
    "\n",
    "from matplotlib import pyplot as plt\n",
    "from plotly import graph_objects as go\n",
    "\n",
    "from scapy.all import *\n",
    "import sys\n",
    "import os\n",
    "\n",
    "import math"
   ]
  },
  {
   "cell_type": "code",
   "execution_count": 51,
   "id": "ee842ffc",
   "metadata": {},
   "outputs": [
    {
     "data": {
      "text/plain": [
       "(<SparkContext master=local[*] appName=main>,\n",
       " <pyspark.sql.session.SparkSession at 0x1ae18d97eb0>)"
      ]
     },
     "execution_count": 51,
     "metadata": {},
     "output_type": "execute_result"
    }
   ],
   "source": [
    "spark = SparkSession.builder.appName('main').getOrCreate()\n",
    "spark.conf.set(\"spark.sql.execution.arrow.pyspark.enabled\", \"true\")\n",
    "sparkContext = spark.sparkContext\n",
    "sparkContext, spark"
   ]
  },
  {
   "cell_type": "code",
   "execution_count": 149,
   "id": "65941182",
   "metadata": {},
   "outputs": [],
   "source": [
    "main_folder = \"C:\\\\Users\\\\igor.beryozkin\\\\Desktop\\\\docs\\\\PCAP\"\n",
    "\n",
    "files_list = []\n",
    "for file in os.listdir(main_folder):\n",
    "    pcap_folder = 'C:\\\\Users\\\\igor.beryozkin\\\\Desktop\\\\docs\\\\PCAP\\\\{0}'.format(file)\n",
    "    files_list.append(pcap_folder)\n",
    "    \n",
    "    \n"
   ]
  },
  {
   "cell_type": "code",
   "execution_count": 156,
   "id": "439e9222",
   "metadata": {},
   "outputs": [
    {
     "name": "stdout",
     "output_type": "stream",
     "text": [
      "5 GB\n"
     ]
    }
   ],
   "source": [
    "# Files weight\n",
    "def GetSize(files):\n",
    "    size = []\n",
    "    \n",
    "    for file in os.listdir(files):\n",
    "        \n",
    "        pcap_folder = 'C:\\\\Users\\\\igor.beryozkin\\\\Desktop\\\\docs\\\\PCAP\\\\{0}'.format(file)\n",
    "    \n",
    "        \n",
    "        size.append(os.stat(pcap_folder).st_size)\n",
    "        \n",
    "    return print((sum(size)) // 1073741824, 'GB') \n",
    "\n",
    "GetSize(main_folder)"
   ]
  },
  {
   "cell_type": "code",
   "execution_count": 53,
   "id": "76fbe748",
   "metadata": {},
   "outputs": [],
   "source": [
    "#Таблица признаков и их описание\n",
    "F_columns = ['№', 'Признак', 'Описание']\n",
    "F_data = [(1, 'Размер запроса в байтах', 'Отклонение от средних показателей 40-60 байт в сторону увеличения может говорить о скрытом канале'),\n",
    "          (2, 'Необычный тип трафика', 'Если в трафике используются данные вида TXT, NULL, KEY - это говорит об аномалии'),\n",
    "          (3, 'Длина имени запроса', 'Имена используемые злоумышленниками могут достигать 200 символов - средняя 30 символов')]"
   ]
  },
  {
   "cell_type": "code",
   "execution_count": 54,
   "id": "ac23f36e",
   "metadata": {},
   "outputs": [],
   "source": [
    "feauture_DF = spark.createDataFrame(F_data, F_columns)"
   ]
  },
  {
   "cell_type": "code",
   "execution_count": 55,
   "id": "070e4a34",
   "metadata": {
    "scrolled": false
   },
   "outputs": [
    {
     "name": "stdout",
     "output_type": "stream",
     "text": [
      "+---+-----------------------+-------------------------------------------------------------------------------------------------+\n",
      "|№  |Признак                |Описание                                                                                         |\n",
      "+---+-----------------------+-------------------------------------------------------------------------------------------------+\n",
      "|1  |Размер запроса в байтах|Отклонение от средних показателей 40-60 байт в сторону увеличения может говорить о скрытом канале|\n",
      "|2  |Необычный тип трафика  |Если в трафике используются данные вида TXT, NULL, KEY - это говорит об аномалии                 |\n",
      "|3  |Длина имени запроса    |Имена используемые злоумышленниками могут достигать 200 символов - средняя 30 символов           |\n",
      "+---+-----------------------+-------------------------------------------------------------------------------------------------+\n",
      "\n"
     ]
    }
   ],
   "source": [
    "feauture_DF.show(truncate= 0)"
   ]
  },
  {
   "cell_type": "code",
   "execution_count": 65,
   "id": "dfccfbe9",
   "metadata": {},
   "outputs": [],
   "source": [
    "def ExtractData(files):\n",
    "    data = []\n",
    "    \n",
    "    for file in files:\n",
    "        \n",
    "        for pkt in PcapReader(file):\n",
    "            \n",
    "            if pkt.haslayer(DNSQR):\n",
    "                query = pkt.getlayer(DNSQR)\n",
    "                \n",
    "                qtype_field = query.get_field('qtype')\n",
    "                qtype_data = qtype_field.i2repr(query, query.qtype)\n",
    "                \n",
    "                qname_field = query.get_field('qname')\n",
    "                qname_data = qname_field.i2repr(query, query.qname)\n",
    "                \n",
    "                data.append((qtype_data, qname_data.__len__(), pkt.len))\n",
    "\n",
    "    return data"
   ]
  },
  {
   "cell_type": "code",
   "execution_count": 66,
   "id": "d61a35e3",
   "metadata": {},
   "outputs": [],
   "source": [
    "def ConvertDataToRDD(data):\n",
    "    return sparkContext.parallelize(data)"
   ]
  },
  {
   "cell_type": "code",
   "execution_count": 67,
   "id": "355aac10",
   "metadata": {},
   "outputs": [],
   "source": [
    "df_schema = StructType([StructField('TrafficType', StringType(), True),\n",
    "                             StructField('NameLenght', IntegerType(), True),\n",
    "                             StructField('Bytes', IntegerType(), True)])"
   ]
  },
  {
   "cell_type": "code",
   "execution_count": 69,
   "id": "dcbba62d",
   "metadata": {},
   "outputs": [],
   "source": [
    "data = ExtractData(files_list)"
   ]
  },
  {
   "cell_type": "code",
   "execution_count": 73,
   "id": "3a689cc5",
   "metadata": {},
   "outputs": [
    {
     "data": {
      "text/plain": [
       "86060"
      ]
     },
     "execution_count": 73,
     "metadata": {},
     "output_type": "execute_result"
    }
   ],
   "source": [
    "data.__len__()"
   ]
  },
  {
   "cell_type": "code",
   "execution_count": 154,
   "id": "2b8a7ecf",
   "metadata": {},
   "outputs": [
    {
     "data": {
      "text/plain": [
       "ParallelCollectionRDD[73] at readRDDFromFile at PythonRDD.scala:274"
      ]
     },
     "execution_count": 154,
     "metadata": {},
     "output_type": "execute_result"
    }
   ],
   "source": [
    "rdd = ConvertDataToRDD(data)\n",
    "rdd"
   ]
  },
  {
   "cell_type": "code",
   "execution_count": 151,
   "id": "cd8fdf5e",
   "metadata": {},
   "outputs": [
    {
     "data": {
      "text/plain": [
       "DataFrame[TrafficType: string, NameLenght: int, Bytes: int]"
      ]
     },
     "execution_count": 151,
     "metadata": {},
     "output_type": "execute_result"
    }
   ],
   "source": [
    "main_DF = spark.createDataFrame(rdd, df_schema)\n",
    "main_DF"
   ]
  },
  {
   "cell_type": "code",
   "execution_count": 78,
   "id": "1944eedf",
   "metadata": {},
   "outputs": [],
   "source": [
    "main_DF.write.parquet('C:\\\\Users\\\\igor.beryozkin\\\\Desktop\\\\docs\\\\traffic_data')"
   ]
  },
  {
   "cell_type": "code",
   "execution_count": 152,
   "id": "8fd592d3",
   "metadata": {},
   "outputs": [],
   "source": [
    "file_parquet = spark.read.parquet('C:\\\\Users\\\\igor.beryozkin\\\\Desktop\\\\docs\\\\traffic_data')"
   ]
  },
  {
   "cell_type": "code",
   "execution_count": 85,
   "id": "3c25b0f7",
   "metadata": {},
   "outputs": [
    {
     "data": {
      "text/plain": [
       "(86060, DataFrame[TrafficType: string, NameLenght: int, Bytes: int])"
      ]
     },
     "execution_count": 85,
     "metadata": {},
     "output_type": "execute_result"
    }
   ],
   "source": [
    "file_parquet.count(), file_parquet"
   ]
  }
 ],
 "metadata": {
  "kernelspec": {
   "display_name": "Python 3 (ipykernel)",
   "language": "python",
   "name": "python3"
  },
  "language_info": {
   "codemirror_mode": {
    "name": "ipython",
    "version": 3
   },
   "file_extension": ".py",
   "mimetype": "text/x-python",
   "name": "python",
   "nbconvert_exporter": "python",
   "pygments_lexer": "ipython3",
   "version": "3.10.6"
  }
 },
 "nbformat": 4,
 "nbformat_minor": 5
}
