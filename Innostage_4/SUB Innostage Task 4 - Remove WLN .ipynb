{
 "cells": [
  {
   "cell_type": "code",
   "execution_count": 1,
   "id": "20996ca1",
   "metadata": {},
   "outputs": [],
   "source": [
    "from pyspark.sql import SparkSession, Row\n",
    "from pyspark.sql.types import StructType, StructField, IntegerType, StringType, LongType\n",
    "from pyspark.sql.functions import *\n",
    "\n",
    "from graphframes import *\n",
    "import networkx as nx\n",
    "\n",
    "import pandas as pd\n",
    "import numpy as np\n",
    "import scipy as sp\n",
    "\n",
    "\n",
    "import matplotlib.pyplot as plt\n",
    "%matplotlib inline\n",
    "\n",
    "import time \n",
    "import sys\n",
    "\n",
    "import findspark\n",
    "findspark.init()"
   ]
  },
  {
   "cell_type": "code",
   "execution_count": 2,
   "id": "0113e7d8",
   "metadata": {},
   "outputs": [
    {
     "data": {
      "text/plain": [
       "[('spark.app.startTime', '1671810081862'),\n",
       " ('spark.driver.host', '192.168.1.103'),\n",
       " ('spark.executor.id', 'driver'),\n",
       " ('spark.app.name', 'PySparkShell'),\n",
       " ('spark.driver.port', '39933'),\n",
       " ('spark.app.id', 'local-1671810084184'),\n",
       " ('spark.sql.catalogImplementation', 'hive'),\n",
       " ('spark.rdd.compress', 'True'),\n",
       " ('spark.serializer.objectStreamReset', '100'),\n",
       " ('spark.master', 'local[*]'),\n",
       " ('spark.submit.pyFiles', ''),\n",
       " ('spark.submit.deployMode', 'client'),\n",
       " ('spark.sql.warehouse.dir',\n",
       "  'file:/home/kei/Desktop/Projects-/Innostage/spark-warehouse'),\n",
       " ('spark.ui.showConsoleProgress', 'true')]"
      ]
     },
     "execution_count": 2,
     "metadata": {},
     "output_type": "execute_result"
    }
   ],
   "source": [
    "spark = (SparkSession.builder\n",
    "                    .config('spark.executor.memory', '36g')\n",
    "                    .config('spark.executor.cores', '3')\n",
    "                    .config('spark.executor.instance', '2')\n",
    "                    .config('spark.driver.cores', '1')\n",
    "                    .config('spark.driver.memory', '12g')\n",
    "                    #.config('spark.extraListeners', 'sparkmonitor.listener.JupyterSparkMonitorListener')\n",
    "                    #.config('spark.driver.extraClassPath', '/home/kei/.local/lib/python3.8/site-packages/sparkmonitor/listener_2.12.jar')\n",
    "                    .getOrCreate())\n",
    "\n",
    "sc = spark.sparkContext\n",
    "\n",
    "spark.sparkContext._conf.getAll()"
   ]
  },
  {
   "cell_type": "code",
   "execution_count": 3,
   "id": "ca8fa1e9",
   "metadata": {},
   "outputs": [],
   "source": [
    "sc.setCheckpointDir('/home/kei/Desktop/Projects-/Innostage/Checkpoints')"
   ]
  },
  {
   "cell_type": "code",
   "execution_count": 4,
   "id": "4062f0b6",
   "metadata": {},
   "outputs": [
    {
     "name": "stderr",
     "output_type": "stream",
     "text": [
      "                                                                                \r"
     ]
    }
   ],
   "source": [
    "cleared_df = spark.read.load('/home/kei/Desktop/data/innostage/innostage_task_4/data/Stage_1/cleared_df.parquet',\n",
    "                    format= 'parquet', sep= ';', inferSchema= 'true', header= 'true')"
   ]
  },
  {
   "cell_type": "code",
   "execution_count": 5,
   "id": "bc410ce2",
   "metadata": {},
   "outputs": [],
   "source": [
    "nodes = (cleared_df.select('src').distinct()).union(cleared_df.select('dst').distinct()).distinct()\n",
    "\n",
    "edge = cleared_df\n",
    "\n",
    "vertex = nodes.select(col('src').alias('id'))\n",
    "\n",
    "graph = GraphFrame(vertex, edge)"
   ]
  },
  {
   "cell_type": "code",
   "execution_count": 6,
   "id": "5583a669",
   "metadata": {},
   "outputs": [],
   "source": [
    "comp0 = spark.read.load('/home/kei/Desktop/data/innostage/innostage_task_4/data/Stage_1/comp0.parquet')"
   ]
  },
  {
   "cell_type": "code",
   "execution_count": 7,
   "id": "f107dadf",
   "metadata": {},
   "outputs": [],
   "source": [
    "mev_1 = ['125.194.32.161']\n",
    "mev_2 = ['125.194.32.167']\n",
    "mev_3 = ['125.194.32.169']\n",
    "mev_4 = ['125.194.32.188']\n",
    "mev_5 = ['125.194.32.189']\n",
    "mev_6 = ['125.194.32.190']\n",
    "mev_7 = ['125.194.32.174']\n",
    "mev_8 = ['125.194.32.163']\n",
    "mev_9 = ['125.194.32.69']\n",
    "mev_10 = ['125.194.32.179']\n",
    "mev_11 = ['125.194.32.185']\n",
    "mev_12 = ['125.194.32.170']\n",
    "mev_13 = ['125.194.32.187']\n",
    "mev_14 = ['125.194.32.180']\n",
    "mev_15 = ['125.194.32.175']\n",
    "mev_16 = ['125.194.32.182']\n",
    "mev_17 = ['125.194.32.176']\n",
    "mev_18 = '125.194.32.183'\n",
    "mev_19 = '125.194.32.191'\n",
    "mev_20 = '125.194.32.162'\n",
    "mev_21 = '125.194.32.173'\n",
    "mev_22 = '125.194.32.186'\n",
    "mev_23 = '10.77.172.2'\n",
    "mev_24 = '125.194.32.32'\n",
    "mev_25 = '10.77.171.51'\n",
    "mev_26 = '10.77.189.12'\n",
    "mev_27 = '125.194.32.64'"
   ]
  },
  {
   "cell_type": "code",
   "execution_count": 10,
   "id": "3d15237a",
   "metadata": {},
   "outputs": [],
   "source": [
    "def delete_weaklylinked_vertices(graph_c0, node, graph_edges, path_save_file, file_name):\n",
    "    timing = time.time()\n",
    "    path = path_save_file + file_name\n",
    "    \n",
    "    \n",
    "    \n",
    "#вершину из списка удаляю из вершин и ребер графа.\n",
    "    new_vertices = graph_c0.select('id').where(col('id') != node)\n",
    "    new_edges = graph_edges.where(col('src') != node).where(col('dst') != node)\n",
    "#   |\n",
    "#создаю новый граф без этой вершины\n",
    "    new_graph = GraphFrame(new_vertices, new_edges)\n",
    "#   | \n",
    "#раскладываю его на компоненты\n",
    "    new_connected_comp = new_graph.connectedComponents()\n",
    "#   |\n",
    "#группирую компоненты по \"components\" и узнаю количество каждого компонента\n",
    "    group_by_comp = new_connected_comp.groupBy('component').count()\n",
    "#   |\n",
    "#выбираю только те компоненты, количество которых != 1\n",
    "    unique_comp = group_by_comp.select('component').where(col('count') != 1).collect()\n",
    "#   |\n",
    "#создаю список этих компонентов\n",
    "    component_list = [i.component for i in unique_comp]\n",
    "#   |\n",
    "#далее выбираю все id из датафрейма connectedComponents с условием что компонент есть в списке\n",
    "    new_df_comp = new_connected_comp.select('id').where(col('component').isin(component_list))\n",
    "#   |\n",
    "#возвращаю вершину обратно\n",
    "    used_node_df = spark.createDataFrame([(node)], 'string').toDF('id')\n",
    "    new_nodes_data = new_df_comp.union(used_node_df)\n",
    "#   |\n",
    "#   |\n",
    "#сохраняю в формате parquet объекты id\n",
    "    new_nodes_data.select('id') \\\n",
    "                  .write.format('parquet').mode('overwrite').option('header', 'true') \\\n",
    "                  .save(path)\n",
    "    \n",
    "    \n",
    "    done_time = time.time() - timing\n",
    "    return print(' Done for: {0} minutes'.format(done_time // 60), '\\n' \\\n",
    "                ,'Algorithm removed: ', graph_c0.count() - new_nodes_data.count(), ' weakly linked nodes.')"
   ]
  },
  {
   "cell_type": "code",
   "execution_count": 52,
   "id": "3c0c6bdd",
   "metadata": {},
   "outputs": [],
   "source": [
    "path_upd_data = \"/home/kei/Desktop/data/innostage/innostage_task_4/data/Stage_2/\""
   ]
  },
  {
   "cell_type": "code",
   "execution_count": 53,
   "id": "c5a823ba",
   "metadata": {},
   "outputs": [],
   "source": [
    "filename = 'nodes_28.parquet/'"
   ]
  },
  {
   "cell_type": "code",
   "execution_count": 54,
   "id": "626cfeb6",
   "metadata": {},
   "outputs": [],
   "source": [
    "new_nodes = spark.read.load('/home/kei/Desktop/data/innostage/innostage_task_4/data/Stage_2/nodes_26.parquet/')"
   ]
  },
  {
   "cell_type": "code",
   "execution_count": 55,
   "id": "d64ead5f",
   "metadata": {},
   "outputs": [
    {
     "name": "stderr",
     "output_type": "stream",
     "text": [
      "[Stage 2507:==================================================> (198 + 4) / 204]\r"
     ]
    },
    {
     "name": "stdout",
     "output_type": "stream",
     "text": [
      " Done for: 5.0 minutes \n",
      " Algorithm removed:  212  weakly linked nodes.\n"
     ]
    },
    {
     "name": "stderr",
     "output_type": "stream",
     "text": [
      "\r",
      "                                                                                \r"
     ]
    }
   ],
   "source": [
    "delete_weaklylinked_vertices(new_nodes, mev_27, graph.edges, path_upd_data, filename)"
   ]
  },
  {
   "cell_type": "code",
   "execution_count": 14,
   "id": "29c68cb7",
   "metadata": {},
   "outputs": [
    {
     "name": "stdout",
     "output_type": "stream",
     "text": [
      " Done for: 300 minutes \n",
      " Algorithm removed:  781145  weakly linked nodes.\n"
     ]
    }
   ],
   "source": [
    "print(' Done for: {0} minutes'.format(18000 // 60), '\\n' \\\n",
    "     ,'Algorithm removed: ', comp0.count() - new_nodes.count(), ' weakly linked nodes.')"
   ]
  },
  {
   "cell_type": "code",
   "execution_count": null,
   "id": "b6a57105",
   "metadata": {},
   "outputs": [],
   "source": []
  }
 ],
 "metadata": {
  "kernelspec": {
   "display_name": "Python 3 (ipykernel)",
   "language": "python",
   "name": "python3"
  },
  "language_info": {
   "codemirror_mode": {
    "name": "ipython",
    "version": 3
   },
   "file_extension": ".py",
   "mimetype": "text/x-python",
   "name": "python",
   "nbconvert_exporter": "python",
   "pygments_lexer": "ipython3",
   "version": "3.8.10"
  }
 },
 "nbformat": 4,
 "nbformat_minor": 5
}
