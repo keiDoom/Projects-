{
 "cells": [
  {
   "cell_type": "code",
   "execution_count": 51,
   "id": "516d91b9-a2e8-403c-8cfc-13905d9dfee0",
   "metadata": {
    "tags": []
   },
   "outputs": [],
   "source": [
    "import numpy as np\n",
    "import pandas as pd\n",
    "import matplotlib.pyplot as plt\n",
    "import time\n",
    "import random\n",
    "import sys"
   ]
  },
  {
   "cell_type": "code",
   "execution_count": 52,
   "id": "3a5d0681-def7-4067-973f-c1ee46e868f1",
   "metadata": {},
   "outputs": [],
   "source": [
    "class MicroclimateParamValueGenerator:\n",
    "    \n",
    "    def __init__(self, min_param_value, max_param_value, mean_param_value):\n",
    "        \n",
    "        self.min_value = min_param_value\n",
    "        self.max_value = max_param_value\n",
    "        self.mean_value = mean_param_value\n",
    "        \n",
    "    def generate_value(self,anomaly_set, std):\n",
    "        \n",
    "    # create generated value and anomaly value\n",
    "        anomaly = np.random.choice(anomaly_set)\n",
    "        generated_value = np.random.normal(self.mean_value, std)\n",
    "    \n",
    "    #for simple anomaly\n",
    "        if anomaly == 0.1:\n",
    "            if np.random.choice(2) == 0:\n",
    "                anomaly_value = generated_value + (generated_value * 0.1)\n",
    "            else:\n",
    "                anomaly_value = generated_value - (generated_value * 0.1)\n",
    "            return anomaly_value\n",
    "        \n",
    "    #for medium anomaly\n",
    "        elif anomaly == 0.001:\n",
    "            if np.random.choice(2) == 0:\n",
    "                anomaly_value = generated_value + (generated_value * 0.35)\n",
    "            else:\n",
    "                anomaly_value = generated_value - (generated_value * 0.35)\n",
    "            return anomaly_value\n",
    "        \n",
    "    #for critcital anomaly\n",
    "        elif anomaly == 0.0001:\n",
    "            if np.random.choice(2) == 0:\n",
    "                anomaly_value = generated_value + (generated_value * 0.9)\n",
    "            else:\n",
    "                anomaly_value = generated_value - (generated_value * 0.9)\n",
    "            return anomaly_value\n",
    "        \n",
    "    #for normal values\n",
    "        else:\n",
    "            return generated_value"
   ]
  },
  {
   "cell_type": "code",
   "execution_count": 53,
   "id": "670a668e",
   "metadata": {},
   "outputs": [],
   "source": [
    "anomaly = [0] * 10000 + [0.1] * 1000 + [0.001] * 100 + [0.0001] * 10"
   ]
  },
  {
   "cell_type": "code",
   "execution_count": 54,
   "id": "9d581c5f",
   "metadata": {},
   "outputs": [],
   "source": [
    "temperature_obj = MicroclimateParamValueGenerator(18, 25, 20)\n",
    "humidity_obj = MicroclimateParamValueGenerator(40, 60, 35)\n",
    "co2_obj = MicroclimateParamValueGenerator(50, 1000, 350)"
   ]
  },
  {
   "cell_type": "code",
   "execution_count": 63,
   "id": "27eae54f",
   "metadata": {},
   "outputs": [],
   "source": [
    "data = list()\n",
    "\n",
    "date_df = pd.DataFrame(pd.date_range(start = pd.Timestamp('2023-01-01 00:00:00'), \n",
    "                               end = pd.Timestamp('2023-12-30 00:00:00'),\n",
    "                               freq = '1H'))\n",
    "\n",
    "for i in range(date_df.__len__()):\n",
    "    data.append([temperature_obj.generate_value(std = 2, anomaly_set = anomaly),\n",
    "                 humidity_obj.generate_value(std = 2, anomaly_set = anomaly), \n",
    "                 co2_obj.generate_value(std = 2, anomaly_set = anomaly)])\n",
    "    \n",
    "\n",
    "values_df = pd.DataFrame(data)"
   ]
  },
  {
   "cell_type": "code",
   "execution_count": 64,
   "id": "3ad5094f",
   "metadata": {},
   "outputs": [],
   "source": [
    "params_df = pd.concat([date_df.rename(columns = {0: 'Date'}), \n",
    "                       values_df.rename(columns = {0: 'Temperature', 1: 'Humidity', 2: 'CO2'})], \n",
    "                       axis = 1).reset_index(drop = True)"
   ]
  },
  {
   "cell_type": "code",
   "execution_count": 57,
   "id": "5ae671c1",
   "metadata": {},
   "outputs": [
    {
     "data": {
      "text/html": [
       "<div>\n",
       "<style scoped>\n",
       "    .dataframe tbody tr th:only-of-type {\n",
       "        vertical-align: middle;\n",
       "    }\n",
       "\n",
       "    .dataframe tbody tr th {\n",
       "        vertical-align: top;\n",
       "    }\n",
       "\n",
       "    .dataframe thead th {\n",
       "        text-align: right;\n",
       "    }\n",
       "</style>\n",
       "<table border=\"1\" class=\"dataframe\">\n",
       "  <thead>\n",
       "    <tr style=\"text-align: right;\">\n",
       "      <th></th>\n",
       "      <th>Date</th>\n",
       "      <th>Temperature</th>\n",
       "      <th>Humidity</th>\n",
       "      <th>CO2</th>\n",
       "    </tr>\n",
       "  </thead>\n",
       "  <tbody>\n",
       "    <tr>\n",
       "      <th>0</th>\n",
       "      <td>2023-01-01 00:00:00</td>\n",
       "      <td>22.805526</td>\n",
       "      <td>30.955483</td>\n",
       "      <td>385.316818</td>\n",
       "    </tr>\n",
       "    <tr>\n",
       "      <th>1</th>\n",
       "      <td>2023-01-01 01:00:00</td>\n",
       "      <td>15.538725</td>\n",
       "      <td>33.901785</td>\n",
       "      <td>350.299767</td>\n",
       "    </tr>\n",
       "    <tr>\n",
       "      <th>2</th>\n",
       "      <td>2023-01-01 02:00:00</td>\n",
       "      <td>19.561931</td>\n",
       "      <td>34.100467</td>\n",
       "      <td>351.669028</td>\n",
       "    </tr>\n",
       "    <tr>\n",
       "      <th>3</th>\n",
       "      <td>2023-01-01 03:00:00</td>\n",
       "      <td>20.552993</td>\n",
       "      <td>32.283270</td>\n",
       "      <td>345.099289</td>\n",
       "    </tr>\n",
       "    <tr>\n",
       "      <th>4</th>\n",
       "      <td>2023-01-01 04:00:00</td>\n",
       "      <td>20.016237</td>\n",
       "      <td>33.160259</td>\n",
       "      <td>349.929111</td>\n",
       "    </tr>\n",
       "    <tr>\n",
       "      <th>...</th>\n",
       "      <td>...</td>\n",
       "      <td>...</td>\n",
       "      <td>...</td>\n",
       "      <td>...</td>\n",
       "    </tr>\n",
       "    <tr>\n",
       "      <th>8708</th>\n",
       "      <td>2023-12-29 20:00:00</td>\n",
       "      <td>21.376420</td>\n",
       "      <td>33.403206</td>\n",
       "      <td>348.569484</td>\n",
       "    </tr>\n",
       "    <tr>\n",
       "      <th>8709</th>\n",
       "      <td>2023-12-29 21:00:00</td>\n",
       "      <td>20.425684</td>\n",
       "      <td>37.711263</td>\n",
       "      <td>382.706546</td>\n",
       "    </tr>\n",
       "    <tr>\n",
       "      <th>8710</th>\n",
       "      <td>2023-12-29 22:00:00</td>\n",
       "      <td>20.032192</td>\n",
       "      <td>34.018335</td>\n",
       "      <td>349.562587</td>\n",
       "    </tr>\n",
       "    <tr>\n",
       "      <th>8711</th>\n",
       "      <td>2023-12-29 23:00:00</td>\n",
       "      <td>20.694287</td>\n",
       "      <td>37.273426</td>\n",
       "      <td>352.108841</td>\n",
       "    </tr>\n",
       "    <tr>\n",
       "      <th>8712</th>\n",
       "      <td>2023-12-30 00:00:00</td>\n",
       "      <td>20.534201</td>\n",
       "      <td>35.244338</td>\n",
       "      <td>349.580719</td>\n",
       "    </tr>\n",
       "  </tbody>\n",
       "</table>\n",
       "<p>8713 rows × 4 columns</p>\n",
       "</div>"
      ],
      "text/plain": [
       "                    Date  Temperature   Humidity         CO2\n",
       "0    2023-01-01 00:00:00    22.805526  30.955483  385.316818\n",
       "1    2023-01-01 01:00:00    15.538725  33.901785  350.299767\n",
       "2    2023-01-01 02:00:00    19.561931  34.100467  351.669028\n",
       "3    2023-01-01 03:00:00    20.552993  32.283270  345.099289\n",
       "4    2023-01-01 04:00:00    20.016237  33.160259  349.929111\n",
       "...                  ...          ...        ...         ...\n",
       "8708 2023-12-29 20:00:00    21.376420  33.403206  348.569484\n",
       "8709 2023-12-29 21:00:00    20.425684  37.711263  382.706546\n",
       "8710 2023-12-29 22:00:00    20.032192  34.018335  349.562587\n",
       "8711 2023-12-29 23:00:00    20.694287  37.273426  352.108841\n",
       "8712 2023-12-30 00:00:00    20.534201  35.244338  349.580719\n",
       "\n",
       "[8713 rows x 4 columns]"
      ]
     },
     "execution_count": 57,
     "metadata": {},
     "output_type": "execute_result"
    }
   ],
   "source": [
    "params_df"
   ]
  },
  {
   "cell_type": "code",
   "execution_count": 58,
   "id": "e6e26f93",
   "metadata": {},
   "outputs": [
    {
     "data": {
      "text/plain": [
       "<Axes: >"
      ]
     },
     "execution_count": 58,
     "metadata": {},
     "output_type": "execute_result"
    },
    {
     "data": {
      "image/png": "[encoded data removed]",
      "text/plain": [
       "<Figure size 640x480 with 1 Axes>"
      ]
     },
     "metadata": {},
     "output_type": "display_data"
    }
   ],
   "source": [
    "params_df['Temperature'].hist()"
   ]
  },
  {
   "cell_type": "code",
   "execution_count": 59,
   "id": "fe83ac1d",
   "metadata": {},
   "outputs": [
    {
     "data": {
      "text/plain": [
       "<Axes: >"
      ]
     },
     "execution_count": 59,
     "metadata": {},
     "output_type": "execute_result"
    },
    {
     "data": {
      "image/png": "[encoded data removed]",
      "text/plain": [
       "<Figure size 640x480 with 1 Axes>"
      ]
     },
     "metadata": {},
     "output_type": "display_data"
    }
   ],
   "source": [
    "params_df['Humidity'].hist()"
   ]
  },
  {
   "cell_type": "code",
   "execution_count": 60,
   "id": "a64968b0",
   "metadata": {},
   "outputs": [
    {
     "data": {
      "text/plain": [
       "<Axes: >"
      ]
     },
     "execution_count": 60,
     "metadata": {},
     "output_type": "execute_result"
    },
    {
     "data": {
      "image/png": "[encoded data removed]",
      "text/plain": [
       "<Figure size 640x480 with 1 Axes>"
      ]
     },
     "metadata": {},
     "output_type": "display_data"
    }
   ],
   "source": [
    "params_df['CO2'].hist()"
   ]
  },
  {
   "cell_type": "code",
   "execution_count": null,
   "id": "598e362a",
   "metadata": {},
   "outputs": [],
   "source": []
  },
  {
   "cell_type": "code",
   "execution_count": null,
   "id": "4970bbae",
   "metadata": {},
   "outputs": [],
   "source": []
  }
 ],
 "metadata": {
  "kernelspec": {
   "display_name": "Python 3 (ipykernel)",
   "language": "python",
   "name": "python3"
  },
  "language_info": {
   "codemirror_mode": {
    "name": "ipython",
    "version": 3
   },
   "file_extension": ".py",
   "mimetype": "text/x-python",
   "name": "python",
   "nbconvert_exporter": "python",
   "pygments_lexer": "ipython3",
   "version": "3.8.10"
  }
 },
 "nbformat": 4,
 "nbformat_minor": 5
}
