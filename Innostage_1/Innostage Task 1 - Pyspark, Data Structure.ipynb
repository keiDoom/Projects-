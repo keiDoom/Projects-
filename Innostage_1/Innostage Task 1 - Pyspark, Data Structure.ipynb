{
 "cells": [
  {
   "cell_type": "code",
   "execution_count": 1,
   "id": "4eb9b7ba",
   "metadata": {},
   "outputs": [],
   "source": [
    "import pandas as pd\n",
    "\n",
    "import pyspark\n",
    "from pyspark.sql import *\n",
    "from pyspark.sql.avro.functions import from_avro, to_avro\n",
    "from pyspark.sql.functions import *\n",
    "from pyspark.sql.types import *\n",
    "\n",
    "from matplotlib import pyplot as plt\n",
    "import plotly.graph_objects as go\n",
    "%matplotlib inline\n",
    "plt.style.use('ggplot')\n",
    "plt.rcParams['figure.figsize'] = (15, 5)"
   ]
  },
  {
   "cell_type": "code",
   "execution_count": 2,
   "id": "07643ee5",
   "metadata": {},
   "outputs": [
    {
     "name": "stdout",
     "output_type": "stream",
     "text": [
      "22/07/20 15:39:06 WARN SparkSession: Using an existing Spark session; only runtime SQL configurations will take effect.\n"
     ]
    }
   ],
   "source": [
    "spark = SparkSession.builder.appName('Main').getOrCreate()"
   ]
  },
  {
   "cell_type": "code",
   "execution_count": 3,
   "id": "f53900a3",
   "metadata": {},
   "outputs": [
    {
     "data": {
      "text/html": [
       "\n",
       "            <div>\n",
       "                <p><b>SparkSession - hive</b></p>\n",
       "                \n",
       "        <div>\n",
       "            <p><b>SparkContext</b></p>\n",
       "\n",
       "            <p><a href=\"http://192.168.1.119:4040\">Spark UI</a></p>\n",
       "\n",
       "            <dl>\n",
       "              <dt>Version</dt>\n",
       "                <dd><code>v3.3.0</code></dd>\n",
       "              <dt>Master</dt>\n",
       "                <dd><code>local[*]</code></dd>\n",
       "              <dt>AppName</dt>\n",
       "                <dd><code>PySparkShell</code></dd>\n",
       "            </dl>\n",
       "        </div>\n",
       "        \n",
       "            </div>\n",
       "        "
      ],
      "text/plain": [
       "<pyspark.sql.session.SparkSession at 0x7fae92a5cb80>"
      ]
     },
     "execution_count": 3,
     "metadata": {},
     "output_type": "execute_result"
    }
   ],
   "source": [
    "spark"
   ]
  },
  {
   "cell_type": "code",
   "execution_count": 4,
   "id": "74a1203d",
   "metadata": {},
   "outputs": [],
   "source": [
    "column_names = ['Food', 'Not Food']\n",
    "data = [('Apple', 'Ball'), ('Pizza', 'Car'), ('Cheeze', 'Sock'), ('Meat', 'Cat')]"
   ]
  },
  {
   "cell_type": "code",
   "execution_count": 5,
   "id": "7fd256ea",
   "metadata": {},
   "outputs": [
    {
     "name": "stderr",
     "output_type": "stream",
     "text": [
      "                                                                                \r"
     ]
    },
    {
     "name": "stdout",
     "output_type": "stream",
     "text": [
      "root\n",
      " |-- Food: string (nullable = true)\n",
      " |-- Not Food: string (nullable = true)\n",
      "\n"
     ]
    }
   ],
   "source": [
    "rdd = spark.sparkContext.parallelize(data)\n",
    "rdd_DF = rdd.toDF(column_names)\n",
    "\n",
    "rdd_DF.printSchema()"
   ]
  },
  {
   "cell_type": "code",
   "execution_count": 6,
   "id": "5566cd41",
   "metadata": {},
   "outputs": [
    {
     "name": "stdout",
     "output_type": "stream",
     "text": [
      "+------+--------+\n",
      "|  Food|Not Food|\n",
      "+------+--------+\n",
      "| Apple|    Ball|\n",
      "| Pizza|     Car|\n",
      "|Cheeze|    Sock|\n",
      "|  Meat|     Cat|\n",
      "+------+--------+\n",
      "\n"
     ]
    }
   ],
   "source": [
    "rdd_DF.show()"
   ]
  },
  {
   "cell_type": "code",
   "execution_count": 7,
   "id": "279c5617",
   "metadata": {},
   "outputs": [],
   "source": [
    "rdd_DF2 = spark.createDataFrame(rdd).toDF(*column_names)"
   ]
  },
  {
   "cell_type": "code",
   "execution_count": 8,
   "id": "b57e8924",
   "metadata": {},
   "outputs": [
    {
     "name": "stdout",
     "output_type": "stream",
     "text": [
      "+------+--------+\n",
      "|  Food|Not Food|\n",
      "+------+--------+\n",
      "| Apple|    Ball|\n",
      "| Pizza|     Car|\n",
      "|Cheeze|    Sock|\n",
      "|  Meat|     Cat|\n",
      "+------+--------+\n",
      "\n"
     ]
    }
   ],
   "source": [
    "rdd_DF2.show()"
   ]
  },
  {
   "cell_type": "code",
   "execution_count": 9,
   "id": "dac2a933",
   "metadata": {},
   "outputs": [],
   "source": [
    "schema = StructType([StructField('firstname', StringType(), True),\n",
    "                    StructField('lastname', StringType(), True),\n",
    "                    StructField('age', IntegerType(), True),\n",
    "                    StructField('ID', IntegerType(), True),\n",
    "                    StructField('Scalary', IntegerType(), True)])\n",
    "\n",
    "\n",
    "data2 = [('Jhon', 'Bellisi', 40, 1, 100000),\n",
    "          ('Igor', 'Berezkin', 20, 2, 90000), \n",
    "          ('Alice', 'Byti', 19, 3, 100000),\n",
    "          ('Amir', 'Maslov', 23, 4, 200050)]"
   ]
  },
  {
   "cell_type": "code",
   "execution_count": 10,
   "id": "fdfc9989",
   "metadata": {},
   "outputs": [
    {
     "name": "stdout",
     "output_type": "stream",
     "text": [
      "root\n",
      " |-- firstname: string (nullable = true)\n",
      " |-- lastname: string (nullable = true)\n",
      " |-- age: integer (nullable = true)\n",
      " |-- ID: integer (nullable = true)\n",
      " |-- Scalary: integer (nullable = true)\n",
      "\n"
     ]
    }
   ],
   "source": [
    "struct_DF = spark.createDataFrame(data= data2, schema= schema)\n",
    "struct_DF.printSchema()\n"
   ]
  },
  {
   "cell_type": "code",
   "execution_count": 11,
   "id": "23ba8f21",
   "metadata": {
    "scrolled": true
   },
   "outputs": [
    {
     "name": "stdout",
     "output_type": "stream",
     "text": [
      "+---------+--------+---+---+-------+\n",
      "|firstname|lastname|age| ID|Scalary|\n",
      "+---------+--------+---+---+-------+\n",
      "|     Jhon| Bellisi| 40|  1| 100000|\n",
      "|     Igor|Berezkin| 20|  2|  90000|\n",
      "|    Alice|    Byti| 19|  3| 100000|\n",
      "|     Amir|  Maslov| 23|  4| 200050|\n",
      "+---------+--------+---+---+-------+\n",
      "\n"
     ]
    }
   ],
   "source": [
    "struct_DF.show()"
   ]
  },
  {
   "cell_type": "code",
   "execution_count": 18,
   "id": "5bdd4c39",
   "metadata": {},
   "outputs": [],
   "source": [
    "data3_csv = '/home/keidoom/IT/Docs/CSV_Files/practice/food.csv'"
   ]
  },
  {
   "cell_type": "code",
   "execution_count": 19,
   "id": "93605498",
   "metadata": {},
   "outputs": [
    {
     "name": "stdout",
     "output_type": "stream",
     "text": [
      "+--------------+--------------------+----------------+--------------------+\n",
      "|     FOOD NAME|     SCIENTIFIC NAME|           GROUP|           SUB GROUP|\n",
      "+--------------+--------------------+----------------+--------------------+\n",
      "|      Angelica|    Angelica keiskei|Herbs and Spices|               Herbs|\n",
      "| Savoy cabbage|Brassica oleracea...|      Vegetables|            Cabbages|\n",
      "| Silver linden|      Tilia argentea|Herbs and Spices|               Herbs|\n",
      "|          Kiwi| Actinidia chinensis|          Fruits|     Tropical fruits|\n",
      "|Allium (Onion)|              Allium|      Vegetables|Onion-family vege...|\n",
      "|  Garden onion|         Allium cepa|      Vegetables|Onion-family vege...|\n",
      "|          Leek|       Allium porrum|      Vegetables|Onion-family vege...|\n",
      "|        Garlic|      Allium sativum|Herbs and Spices|               Herbs|\n",
      "|        Chives|Allium schoenoprasum|Herbs and Spices|               Herbs|\n",
      "| Lemon verbena|   Aloysia triphylla|Herbs and Spices|               Herbs|\n",
      "|    Cashew nut|Anacardium occide...|            Nuts|                Nuts|\n",
      "|     Pineapple|      Ananas comosus|          Fruits|     Tropical fruits|\n",
      "|          Dill|  Anethum graveolens|Herbs and Spices|               Herbs|\n",
      "| Custard apple|   Annona reticulata|          Fruits|     Tropical fruits|\n",
      "|   Wild celery|    Apium graveolens|Herbs and Spices|              Spices|\n",
      "|        Peanut|    Arachis hypogaea|            Nuts|                Nuts|\n",
      "|       Burdock|       Arctium lappa|      Vegetables|     Root vegetables|\n",
      "|   Horseradish| Armoracia rusticana|Herbs and Spices|              Spices|\n",
      "|      Tarragon|Artemisia dracunc...|Herbs and Spices|               Herbs|\n",
      "|       Mugwort|  Artemisia vulgaris|Herbs and Spices|               Herbs|\n",
      "+--------------+--------------------+----------------+--------------------+\n",
      "only showing top 20 rows\n",
      "\n"
     ]
    }
   ],
   "source": [
    "csv_DF = spark.read.csv(data3_csv, header=True)\n",
    "csv_DF.show()"
   ]
  },
  {
   "cell_type": "code",
   "execution_count": 20,
   "id": "c8ae18aa",
   "metadata": {},
   "outputs": [],
   "source": [
    "data4_parquet = '/home/keidoom/IT/Docs/PARQUET_Files/userdata.parquet'"
   ]
  },
  {
   "cell_type": "code",
   "execution_count": 21,
   "id": "360004ac",
   "metadata": {},
   "outputs": [
    {
     "name": "stderr",
     "output_type": "stream",
     "text": [
      "                                                                                \r"
     ]
    },
    {
     "name": "stdout",
     "output_type": "stream",
     "text": [
      "+-------------------+---+----------+---------+--------------------+------+---------------+-------------------+--------------------+----------+---------+--------------------+--------------------+\n",
      "|  registration_dttm| id|first_name|last_name|               email|gender|     ip_address|                 cc|             country| birthdate|   salary|               title|            comments|\n",
      "+-------------------+---+----------+---------+--------------------+------+---------------+-------------------+--------------------+----------+---------+--------------------+--------------------+\n",
      "|2016-02-03 10:55:29|  1|    Amanda|   Jordan|    ajordan0@com.com|Female|    1.197.201.2|   6759521864920116|           Indonesia|  3/8/1971| 49756.53|    Internal Auditor|               1E+02|\n",
      "|2016-02-03 20:04:03|  2|    Albert|  Freeman|     afreeman1@is.gd|  Male| 218.111.175.34|                   |              Canada| 1/16/1968|150280.17|       Accountant IV|                    |\n",
      "|2016-02-03 04:09:31|  3|    Evelyn|   Morgan|emorgan2@altervis...|Female|   7.161.136.94|   6767119071901597|              Russia|  2/1/1960|144972.51| Structural Engineer|                    |\n",
      "|2016-02-03 03:36:21|  4|    Denise|    Riley|    driley3@gmpg.org|Female|  140.35.109.83|   3576031598965625|               China|  4/8/1997| 90263.05|Senior Cost Accou...|                    |\n",
      "|2016-02-03 08:05:31|  5|    Carlos|    Burns|cburns4@miitbeian...|      | 169.113.235.40|   5602256255204850|        South Africa|          |     null|                    |                    |\n",
      "|2016-02-03 10:22:34|  6|   Kathryn|    White|  kwhite5@google.com|Female| 195.131.81.179|   3583136326049310|           Indonesia| 2/25/1983| 69227.11|   Account Executive|                    |\n",
      "|2016-02-03 11:33:08|  7|    Samuel|   Holmes|sholmes6@foxnews.com|  Male| 232.234.81.197|   3582641366974690|            Portugal|12/18/1987| 14247.62|Senior Financial ...|                    |\n",
      "|2016-02-03 09:47:06|  8|     Harry|   Howell| hhowell7@eepurl.com|  Male|   91.235.51.73|                   |Bosnia and Herzeg...|  3/1/1962|186469.43|    Web Developer IV|                    |\n",
      "|2016-02-03 06:52:53|  9|      Jose|   Foster|   jfoster8@yelp.com|  Male|   132.31.53.61|                   |         South Korea| 3/27/1992|231067.84|Software Test Eng...|               1E+02|\n",
      "|2016-02-03 21:29:47| 10|     Emily|  Stewart|estewart9@opensou...|Female| 143.28.251.245|   3574254110301671|             Nigeria| 1/28/1997| 27234.28|     Health Coach IV|                    |\n",
      "|2016-02-03 03:10:42| 11|     Susan|  Perkins| sperkinsa@patch.com|Female|    180.85.0.62|   3573823609854134|              Russia|          |210001.95|                    |                    |\n",
      "|2016-02-03 21:04:34| 12|     Alice|    Berry|aberryb@wikipedia...|Female| 246.225.12.189|   4917830851454417|               China| 8/12/1968| 22944.53|    Quality Engineer|                    |\n",
      "|2016-02-03 21:48:17| 13|    Justin|    Berry|jberryc@usatoday.com|  Male|   157.7.146.43|6331109912871813274|              Zambia| 8/15/1975| 44165.46|Structural Analys...|                    |\n",
      "|2016-02-04 00:46:52| 14|     Kathy| Reynolds|kreynoldsd@redcro...|Female|  81.254.172.13|   5537178462965976|Bosnia and Herzeg...| 6/27/1970|286592.99|           Librarian|                    |\n",
      "|2016-02-03 11:53:23| 15|   Dorothy|   Hudson|dhudsone@blogger.com|Female|       8.59.7.0|   3542586858224170|               Japan|12/20/1989|157099.71|  Nurse Practicioner|<script>alert('hi...|\n",
      "|2016-02-03 03:44:01| 16|     Bruce|   Willis|bwillisf@bluehost...|  Male|239.182.219.189|   3573030625927601|              Brazil|          |239100.65|                    |                    |\n",
      "|2016-02-03 03:57:45| 17|     Emily|  Andrews|eandrewsg@cornell...|Female| 29.231.180.172|     30271790537626|              Russia| 4/13/1990|116800.65|        Food Chemist|                    |\n",
      "|2016-02-03 19:44:24| 18|   Stephen|  Wallace|swallaceh@netvibe...|  Male|  152.49.213.62|   5433943468526428|             Ukraine| 1/15/1978|248877.99|Account Represent...|                    |\n",
      "|2016-02-03 14:45:54| 19|  Clarence|   Lawson|clawsoni@vkontakt...|  Male| 107.175.15.152|   3544052814080964|              Russia|          |177122.99|                    |                    |\n",
      "|2016-02-03 13:30:36| 20|   Rebecca|     Bell| rbellj@bandcamp.com|Female|172.215.104.127|                   |               China|          |137251.19|                    |                    |\n",
      "+-------------------+---+----------+---------+--------------------+------+---------------+-------------------+--------------------+----------+---------+--------------------+--------------------+\n",
      "only showing top 20 rows\n",
      "\n"
     ]
    },
    {
     "name": "stderr",
     "output_type": "stream",
     "text": [
      "                                                                                \r"
     ]
    }
   ],
   "source": [
    "parquet_DF = spark.read.parquet(data4_parquet, header= True)\n",
    "parquet_DF.show()"
   ]
  },
  {
   "cell_type": "code",
   "execution_count": 22,
   "id": "63340836",
   "metadata": {},
   "outputs": [],
   "source": [
    "parquet_DF = parquet_DF.toPandas()"
   ]
  },
  {
   "cell_type": "code",
   "execution_count": 23,
   "id": "9eab2d58",
   "metadata": {
    "scrolled": true
   },
   "outputs": [
    {
     "data": {
      "text/html": [
       "<div>\n",
       "<style scoped>\n",
       "    .dataframe tbody tr th:only-of-type {\n",
       "        vertical-align: middle;\n",
       "    }\n",
       "\n",
       "    .dataframe tbody tr th {\n",
       "        vertical-align: top;\n",
       "    }\n",
       "\n",
       "    .dataframe thead th {\n",
       "        text-align: right;\n",
       "    }\n",
       "</style>\n",
       "<table border=\"1\" class=\"dataframe\">\n",
       "  <thead>\n",
       "    <tr style=\"text-align: right;\">\n",
       "      <th></th>\n",
       "      <th>registration_dttm</th>\n",
       "      <th>id</th>\n",
       "      <th>first_name</th>\n",
       "      <th>last_name</th>\n",
       "      <th>email</th>\n",
       "      <th>gender</th>\n",
       "      <th>ip_address</th>\n",
       "      <th>cc</th>\n",
       "      <th>country</th>\n",
       "      <th>birthdate</th>\n",
       "      <th>salary</th>\n",
       "      <th>title</th>\n",
       "      <th>comments</th>\n",
       "    </tr>\n",
       "  </thead>\n",
       "  <tbody>\n",
       "    <tr>\n",
       "      <th>0</th>\n",
       "      <td>2016-02-03 10:55:29</td>\n",
       "      <td>1</td>\n",
       "      <td>Amanda</td>\n",
       "      <td>Jordan</td>\n",
       "      <td>ajordan0@com.com</td>\n",
       "      <td>Female</td>\n",
       "      <td>1.197.201.2</td>\n",
       "      <td>6759521864920116</td>\n",
       "      <td>Indonesia</td>\n",
       "      <td>3/8/1971</td>\n",
       "      <td>49756.53</td>\n",
       "      <td>Internal Auditor</td>\n",
       "      <td>1E+02</td>\n",
       "    </tr>\n",
       "    <tr>\n",
       "      <th>1</th>\n",
       "      <td>2016-02-03 20:04:03</td>\n",
       "      <td>2</td>\n",
       "      <td>Albert</td>\n",
       "      <td>Freeman</td>\n",
       "      <td>afreeman1@is.gd</td>\n",
       "      <td>Male</td>\n",
       "      <td>218.111.175.34</td>\n",
       "      <td></td>\n",
       "      <td>Canada</td>\n",
       "      <td>1/16/1968</td>\n",
       "      <td>150280.17</td>\n",
       "      <td>Accountant IV</td>\n",
       "      <td></td>\n",
       "    </tr>\n",
       "    <tr>\n",
       "      <th>2</th>\n",
       "      <td>2016-02-03 04:09:31</td>\n",
       "      <td>3</td>\n",
       "      <td>Evelyn</td>\n",
       "      <td>Morgan</td>\n",
       "      <td>emorgan2@altervista.org</td>\n",
       "      <td>Female</td>\n",
       "      <td>7.161.136.94</td>\n",
       "      <td>6767119071901597</td>\n",
       "      <td>Russia</td>\n",
       "      <td>2/1/1960</td>\n",
       "      <td>144972.51</td>\n",
       "      <td>Structural Engineer</td>\n",
       "      <td></td>\n",
       "    </tr>\n",
       "    <tr>\n",
       "      <th>3</th>\n",
       "      <td>2016-02-03 03:36:21</td>\n",
       "      <td>4</td>\n",
       "      <td>Denise</td>\n",
       "      <td>Riley</td>\n",
       "      <td>driley3@gmpg.org</td>\n",
       "      <td>Female</td>\n",
       "      <td>140.35.109.83</td>\n",
       "      <td>3576031598965625</td>\n",
       "      <td>China</td>\n",
       "      <td>4/8/1997</td>\n",
       "      <td>90263.05</td>\n",
       "      <td>Senior Cost Accountant</td>\n",
       "      <td></td>\n",
       "    </tr>\n",
       "    <tr>\n",
       "      <th>4</th>\n",
       "      <td>2016-02-03 08:05:31</td>\n",
       "      <td>5</td>\n",
       "      <td>Carlos</td>\n",
       "      <td>Burns</td>\n",
       "      <td>cburns4@miitbeian.gov.cn</td>\n",
       "      <td></td>\n",
       "      <td>169.113.235.40</td>\n",
       "      <td>5602256255204850</td>\n",
       "      <td>South Africa</td>\n",
       "      <td></td>\n",
       "      <td>NaN</td>\n",
       "      <td></td>\n",
       "      <td></td>\n",
       "    </tr>\n",
       "    <tr>\n",
       "      <th>...</th>\n",
       "      <td>...</td>\n",
       "      <td>...</td>\n",
       "      <td>...</td>\n",
       "      <td>...</td>\n",
       "      <td>...</td>\n",
       "      <td>...</td>\n",
       "      <td>...</td>\n",
       "      <td>...</td>\n",
       "      <td>...</td>\n",
       "      <td>...</td>\n",
       "      <td>...</td>\n",
       "      <td>...</td>\n",
       "      <td>...</td>\n",
       "    </tr>\n",
       "    <tr>\n",
       "      <th>995</th>\n",
       "      <td>2016-02-03 13:30:59</td>\n",
       "      <td>996</td>\n",
       "      <td>Dennis</td>\n",
       "      <td>Harris</td>\n",
       "      <td>dharrisrn@eepurl.com</td>\n",
       "      <td>Male</td>\n",
       "      <td>178.180.111.236</td>\n",
       "      <td>374288806662929</td>\n",
       "      <td>Greece</td>\n",
       "      <td>7/8/1965</td>\n",
       "      <td>263399.54</td>\n",
       "      <td>Editor</td>\n",
       "      <td></td>\n",
       "    </tr>\n",
       "    <tr>\n",
       "      <th>996</th>\n",
       "      <td>2016-02-03 20:16:53</td>\n",
       "      <td>997</td>\n",
       "      <td>Gloria</td>\n",
       "      <td>Hamilton</td>\n",
       "      <td>ghamiltonro@rambler.ru</td>\n",
       "      <td>Female</td>\n",
       "      <td>71.50.39.137</td>\n",
       "      <td></td>\n",
       "      <td>China</td>\n",
       "      <td>4/22/1975</td>\n",
       "      <td>83183.54</td>\n",
       "      <td>VP Product Management</td>\n",
       "      <td></td>\n",
       "    </tr>\n",
       "    <tr>\n",
       "      <th>997</th>\n",
       "      <td>2016-02-03 08:02:20</td>\n",
       "      <td>998</td>\n",
       "      <td>Nancy</td>\n",
       "      <td>Morris</td>\n",
       "      <td>nmorrisrp@ask.com</td>\n",
       "      <td></td>\n",
       "      <td>6.188.121.221</td>\n",
       "      <td>3553564071014997</td>\n",
       "      <td>Sweden</td>\n",
       "      <td>5/1/1979</td>\n",
       "      <td>NaN</td>\n",
       "      <td>Junior Executive</td>\n",
       "      <td></td>\n",
       "    </tr>\n",
       "    <tr>\n",
       "      <th>998</th>\n",
       "      <td>2016-02-03 05:41:32</td>\n",
       "      <td>999</td>\n",
       "      <td>Annie</td>\n",
       "      <td>Daniels</td>\n",
       "      <td>adanielsrq@squidoo.com</td>\n",
       "      <td>Female</td>\n",
       "      <td>97.221.132.35</td>\n",
       "      <td>30424803513734</td>\n",
       "      <td>China</td>\n",
       "      <td>10/9/1991</td>\n",
       "      <td>18433.85</td>\n",
       "      <td>Editor</td>\n",
       "      <td>​</td>\n",
       "    </tr>\n",
       "    <tr>\n",
       "      <th>999</th>\n",
       "      <td>2016-02-03 12:52:18</td>\n",
       "      <td>1000</td>\n",
       "      <td>Julie</td>\n",
       "      <td>Meyer</td>\n",
       "      <td>jmeyerrr@flavors.me</td>\n",
       "      <td>Female</td>\n",
       "      <td>217.1.147.132</td>\n",
       "      <td>374288099198540</td>\n",
       "      <td>China</td>\n",
       "      <td></td>\n",
       "      <td>222561.13</td>\n",
       "      <td></td>\n",
       "      <td></td>\n",
       "    </tr>\n",
       "  </tbody>\n",
       "</table>\n",
       "<p>1000 rows × 13 columns</p>\n",
       "</div>"
      ],
      "text/plain": [
       "      registration_dttm    id first_name last_name                     email  \\\n",
       "0   2016-02-03 10:55:29     1     Amanda    Jordan          ajordan0@com.com   \n",
       "1   2016-02-03 20:04:03     2     Albert   Freeman           afreeman1@is.gd   \n",
       "2   2016-02-03 04:09:31     3     Evelyn    Morgan   emorgan2@altervista.org   \n",
       "3   2016-02-03 03:36:21     4     Denise     Riley          driley3@gmpg.org   \n",
       "4   2016-02-03 08:05:31     5     Carlos     Burns  cburns4@miitbeian.gov.cn   \n",
       "..                  ...   ...        ...       ...                       ...   \n",
       "995 2016-02-03 13:30:59   996     Dennis    Harris      dharrisrn@eepurl.com   \n",
       "996 2016-02-03 20:16:53   997     Gloria  Hamilton    ghamiltonro@rambler.ru   \n",
       "997 2016-02-03 08:02:20   998      Nancy    Morris         nmorrisrp@ask.com   \n",
       "998 2016-02-03 05:41:32   999      Annie   Daniels    adanielsrq@squidoo.com   \n",
       "999 2016-02-03 12:52:18  1000      Julie     Meyer       jmeyerrr@flavors.me   \n",
       "\n",
       "     gender       ip_address                cc       country  birthdate  \\\n",
       "0    Female      1.197.201.2  6759521864920116     Indonesia   3/8/1971   \n",
       "1      Male   218.111.175.34                          Canada  1/16/1968   \n",
       "2    Female     7.161.136.94  6767119071901597        Russia   2/1/1960   \n",
       "3    Female    140.35.109.83  3576031598965625         China   4/8/1997   \n",
       "4             169.113.235.40  5602256255204850  South Africa              \n",
       "..      ...              ...               ...           ...        ...   \n",
       "995    Male  178.180.111.236   374288806662929        Greece   7/8/1965   \n",
       "996  Female     71.50.39.137                           China  4/22/1975   \n",
       "997            6.188.121.221  3553564071014997        Sweden   5/1/1979   \n",
       "998  Female    97.221.132.35    30424803513734         China  10/9/1991   \n",
       "999  Female    217.1.147.132   374288099198540         China              \n",
       "\n",
       "        salary                   title comments  \n",
       "0     49756.53        Internal Auditor    1E+02  \n",
       "1    150280.17           Accountant IV           \n",
       "2    144972.51     Structural Engineer           \n",
       "3     90263.05  Senior Cost Accountant           \n",
       "4          NaN                                   \n",
       "..         ...                     ...      ...  \n",
       "995  263399.54                  Editor           \n",
       "996   83183.54   VP Product Management           \n",
       "997        NaN        Junior Executive           \n",
       "998   18433.85                  Editor        ​  \n",
       "999  222561.13                                   \n",
       "\n",
       "[1000 rows x 13 columns]"
      ]
     },
     "execution_count": 23,
     "metadata": {},
     "output_type": "execute_result"
    }
   ],
   "source": [
    "parquet_DF\n"
   ]
  },
  {
   "cell_type": "code",
   "execution_count": 24,
   "id": "8d5c238b",
   "metadata": {},
   "outputs": [
    {
     "data": {
      "text/plain": [
       "<AxesSubplot:>"
      ]
     },
     "execution_count": 24,
     "metadata": {},
     "output_type": "execute_result"
    },
    {
     "data": {
      "image/png": "[encoded data removed]",
      "text/plain": [
       "<Figure size 1080x360 with 1 Axes>"
      ]
     },
     "metadata": {},
     "output_type": "display_data"
    }
   ],
   "source": [
    "#for example\n",
    "parquet_DF.loc[parquet_DF['country'] == 'Russia', 'salary'].plot.bar()\n"
   ]
  },
  {
   "cell_type": "code",
   "execution_count": null,
   "id": "522c962f",
   "metadata": {},
   "outputs": [],
   "source": []
  }
 ],
 "metadata": {
  "kernelspec": {
   "display_name": "Python 3",
   "language": "python",
   "name": "python3"
  },
  "language_info": {
   "codemirror_mode": {
    "name": "ipython",
    "version": 3
   },
   "file_extension": ".py",
   "mimetype": "text/x-python",
   "name": "python",
   "nbconvert_exporter": "python",
   "pygments_lexer": "ipython3",
   "version": "3.8.10"
  }
 },
 "nbformat": 4,
 "nbformat_minor": 5
}
